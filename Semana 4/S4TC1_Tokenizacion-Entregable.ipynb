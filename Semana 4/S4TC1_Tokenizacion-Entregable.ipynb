{
 "cells": [
  {
   "cell_type": "markdown",
   "metadata": {},
   "source": [
    "![image info](https://raw.githubusercontent.com/albahnsen/MIAD_ML_and_NLP/main/images/banner_1.png)"
   ]
  },
  {
   "cell_type": "markdown",
   "metadata": {},
   "source": [
    "# Taller: Tokenización de textos  \n",
    "\n",
    "### Integrantes:\n",
    "- Jesus Alberto Parada Perez\n",
    "- Jorge Esteban Caballero\n",
    "- Diana Villalba\n",
    "- Juan Jose Ovalle\n",
    "\n",
    "En este taller podrán poner en práctica sus conocimientos sobre preprocesamiento de texto (tokenización). El taller está constituido por 5 puntos, en los cuales deberan seguir las intrucciones de cada numeral para su desarrollo."
   ]
  },
  {
   "cell_type": "markdown",
   "metadata": {},
   "source": [
    "## Datos detección de toxicidad en comentarios\n",
    "\n",
    "En este taller se usará el conjunto de datos de detección de toxicidad en comentarios de la base de datos de Kaggle. Cada observación es un comentario que tiene como variable objetivo (target) la probabilidad de ser un comentario tóxico. El objetivo es predecir la toxicidad de cada comentario. Para más detalles pueden visitar el siguiente enlace: [datos](https://www.kaggle.com/c/jigsaw-unintended-bias-in-toxicity-classification/data)."
   ]
  },
  {
   "cell_type": "code",
   "execution_count": 1,
   "metadata": {},
   "outputs": [],
   "source": [
    "import warnings\n",
    "warnings.filterwarnings('ignore')"
   ]
  },
  {
   "cell_type": "code",
   "execution_count": 2,
   "metadata": {},
   "outputs": [],
   "source": [
    "# Importación librerías\n",
    "import pandas as pd\n",
    "import matplotlib.pyplot as plt\n",
    "import numpy as np\n",
    "import scipy as sp\n",
    "from sklearn.model_selection import train_test_split, cross_val_score\n",
    "from sklearn.feature_extraction.text import CountVectorizer, TfidfVectorizer\n",
    "from sklearn.linear_model import Ridge\n",
    "from sklearn import metrics\n",
    "%matplotlib inline"
   ]
  },
  {
   "cell_type": "code",
   "execution_count": 3,
   "metadata": {},
   "outputs": [
    {
     "data": {
      "text/html": [
       "<div>\n",
       "<style scoped>\n",
       "    .dataframe tbody tr th:only-of-type {\n",
       "        vertical-align: middle;\n",
       "    }\n",
       "\n",
       "    .dataframe tbody tr th {\n",
       "        vertical-align: top;\n",
       "    }\n",
       "\n",
       "    .dataframe thead th {\n",
       "        text-align: right;\n",
       "    }\n",
       "</style>\n",
       "<table border=\"1\" class=\"dataframe\">\n",
       "  <thead>\n",
       "    <tr style=\"text-align: right;\">\n",
       "      <th></th>\n",
       "      <th>id</th>\n",
       "      <th>comment_text</th>\n",
       "      <th>target</th>\n",
       "    </tr>\n",
       "  </thead>\n",
       "  <tbody>\n",
       "    <tr>\n",
       "      <th>0</th>\n",
       "      <td>6101457</td>\n",
       "      <td>What are you talking about? What group do Pete...</td>\n",
       "      <td>0.0</td>\n",
       "    </tr>\n",
       "    <tr>\n",
       "      <th>1</th>\n",
       "      <td>5342103</td>\n",
       "      <td>NO!, Let him, we need a Conservative government.</td>\n",
       "      <td>0.0</td>\n",
       "    </tr>\n",
       "    <tr>\n",
       "      <th>2</th>\n",
       "      <td>743361</td>\n",
       "      <td>Perhaps he took the \"power out of the Cardinal...</td>\n",
       "      <td>0.2</td>\n",
       "    </tr>\n",
       "    <tr>\n",
       "      <th>3</th>\n",
       "      <td>551008</td>\n",
       "      <td>As always, yours is dripping with sarcasm, whi...</td>\n",
       "      <td>0.0</td>\n",
       "    </tr>\n",
       "    <tr>\n",
       "      <th>4</th>\n",
       "      <td>865998</td>\n",
       "      <td>The dirty little secret is that the price rang...</td>\n",
       "      <td>0.3</td>\n",
       "    </tr>\n",
       "  </tbody>\n",
       "</table>\n",
       "</div>"
      ],
      "text/plain": [
       "        id                                       comment_text  target\n",
       "0  6101457  What are you talking about? What group do Pete...     0.0\n",
       "1  5342103   NO!, Let him, we need a Conservative government.     0.0\n",
       "2   743361  Perhaps he took the \"power out of the Cardinal...     0.2\n",
       "3   551008  As always, yours is dripping with sarcasm, whi...     0.0\n",
       "4   865998  The dirty little secret is that the price rang...     0.3"
      ]
     },
     "execution_count": 3,
     "metadata": {},
     "output_type": "execute_result"
    }
   ],
   "source": [
    "# Carga de datos de archivos .csv\n",
    "df = pd.read_csv('https://raw.githubusercontent.com/albahnsen/MIAD_ML_and_NLP/main/datasets/Toxicity.zip')\n",
    "df = df[['id','comment_text', 'target']]\n",
    "df.head()"
   ]
  },
  {
   "cell_type": "code",
   "execution_count": 4,
   "metadata": {},
   "outputs": [
    {
     "data": {
      "text/plain": [
       "<AxesSubplot:>"
      ]
     },
     "execution_count": 4,
     "metadata": {},
     "output_type": "execute_result"
    },
    {
     "data": {
      "image/png": "[encoded data removed]",
      "text/plain": [
       "<Figure size 640x480 with 1 Axes>"
      ]
     },
     "metadata": {},
     "output_type": "display_data"
    }
   ],
   "source": [
    "# Impresión histograma de variable de interés (y)\n",
    "df.target.hist()"
   ]
  },
  {
   "cell_type": "code",
   "execution_count": 5,
   "metadata": {},
   "outputs": [
    {
     "data": {
      "text/plain": [
       "count    541462.000000\n",
       "mean          0.102991\n",
       "std           0.196979\n",
       "min           0.000000\n",
       "25%           0.000000\n",
       "50%           0.000000\n",
       "75%           0.166667\n",
       "max           1.000000\n",
       "Name: target, dtype: float64"
      ]
     },
     "execution_count": 5,
     "metadata": {},
     "output_type": "execute_result"
    }
   ],
   "source": [
    "# Separación de variable de interés (y)\n",
    "y = df.target\n",
    "y.describe()"
   ]
  },
  {
   "cell_type": "code",
   "execution_count": 6,
   "metadata": {},
   "outputs": [],
   "source": [
    "# Separación de variables predictoras (X), solo se considera el texto de la noticia\n",
    "X = df.comment_text"
   ]
  },
  {
   "cell_type": "code",
   "execution_count": 7,
   "metadata": {},
   "outputs": [],
   "source": [
    "# Separación de datos en set de entrenamiento y test\n",
    "X_train, X_test, y_train, y_test = train_test_split(X, y, test_size=0.33, random_state=42)"
   ]
  },
  {
   "cell_type": "markdown",
   "metadata": {},
   "source": [
    "## Punto 1 - Tokenización con CountVectorizer\n",
    "\n",
    "En la celda 1 creen y entrenen el modelo de regresión de su preferencia, para que prediga la probabilidad de que un comentario sea tóxico, usando los set de entrenamiento y test definidos anteriormente. Usen la función **CountVectorizer** para preprocesar los comentarios y presenten el desempeño del modelo con la métrica del MSE.\n",
    "\n",
    "Recuerden que el preprocesamiento que se haga sobre los datos de entrenamiento  (*.fit_transform()*) deben ser aplicado al set de test (*.transform()*)."
   ]
  },
  {
   "cell_type": "code",
   "execution_count": 8,
   "metadata": {},
   "outputs": [
    {
     "name": "stdout",
     "output_type": "stream",
     "text": [
      "MSE en test usando CountVectorizer: 0.02418902299254611\n",
      "MSE en train usando CountVectorizer: 0.023516268646163102\n"
     ]
    }
   ],
   "source": [
    "# Celda 1\n",
    "# Tokenizar los comentarios\n",
    "vectorizer_1 = CountVectorizer()\n",
    "X_train_1 = vectorizer_1.fit_transform(X_train)\n",
    "X_test_1 = vectorizer_1.transform(X_test)\n",
    "\n",
    "# Entrenar el modelo de regresión Ridge\n",
    "lr = Ridge(positive=True, random_state=1399)\n",
    "lr.fit(X_train_1, y_train)\n",
    "\n",
    "# Predecir probabilidades y evaluar el desempeño usando MSE\n",
    "y_pred_1 = lr.predict(X_test_1)\n",
    "mse_1 = metrics.mean_squared_error(y_test, y_pred_1)\n",
    "print(f'MSE en test usando CountVectorizer: {mse_1}')\n",
    "\n",
    "y_pred_1_train = lr.predict(X_train_1)\n",
    "mse_1_train = metrics.mean_squared_error(y_train, y_pred_1_train)\n",
    "print(f'MSE en train usando CountVectorizer: {mse_1_train}')"
   ]
  },
  {
   "cell_type": "markdown",
   "metadata": {},
   "source": [
    "## Punto 2 - Tokenización con CountVectorizer y trigramas\n",
    "\n",
    "En la celda 2 creen y entrenen el mismo modelo de regresión del punto anterior (es decir si usaron un RandomForestRegresor usen nuevamente ese regresor), para que prediga la probabilidad de que un comentario sea tóxico, usando los set de entrenamiento y test definidos anteriormente. Usen la función CountVectorizer **considerando trigramas** para preprocesar los comentarios y presenten el desempeño del modelo con la métrica del MSE.\n",
    "\n",
    "Recuerden que el preprocesamiento que se haga sobre los datos de entrenamiento  (*.fit_transform()*) deben ser aplicado al set de test (*.transform()*)."
   ]
  },
  {
   "cell_type": "code",
   "execution_count": 9,
   "metadata": {},
   "outputs": [
    {
     "name": "stdout",
     "output_type": "stream",
     "text": [
      "MSE en test usando CountVectorizer considerando trigramas: 0.038947069119538234\n",
      "MSE en train usando CountVectorizer considerando trigramas: 0.0015494181572202914\n"
     ]
    }
   ],
   "source": [
    "# Celda 2\n",
    "# Tokenizar los comentarios usando solo trigramas i.e ngram_range=(3, 3)\n",
    "vectorizer_2 = CountVectorizer(ngram_range=(3, 3))\n",
    "X_train_2 = vectorizer_2.fit_transform(X_train)\n",
    "X_test_2 = vectorizer_2.transform(X_test)\n",
    "\n",
    "# Entrenar el modelo de regresión Ridge\n",
    "lr2 = Ridge(positive=True, random_state=1399)\n",
    "lr2.fit(X_train_2, y_train)\n",
    "\n",
    "# Predecir probabilidades y evaluar el desempeño usando MSE\n",
    "y_pred_2 = lr2.predict(X_test_2)\n",
    "mse_2 = metrics.mean_squared_error(y_test, y_pred_2)\n",
    "print(f'MSE en test usando CountVectorizer considerando trigramas: {mse_2}')\n",
    "\n",
    "y_pred_2_train = lr2.predict(X_train_2)\n",
    "mse_2_train = metrics.mean_squared_error(y_train, y_pred_2_train)\n",
    "print(f'MSE en train usando CountVectorizer considerando trigramas: {mse_2_train}')"
   ]
  },
  {
   "cell_type": "markdown",
   "metadata": {},
   "source": [
    "## Punto 3 - TfidfVectorizer\n",
    "\n",
    "Investigen sobre la función TfidfVectorizer. En la celda de texto 3, expliquen en qué consiste esta técnica de tokenización (describanla y expliquen su funcionamiento) y cúales son las ventajas o deventajas de su uso al compararlo con la función CountVectorizer."
   ]
  },
  {
   "cell_type": "markdown",
   "metadata": {},
   "source": [
    "TfidfVectorizer es una técnica de tokenización usada en el procesamiento de lenguaje natural (NLP). La técnica se basa en el cálculo de dos componentes: Term Frequency (TF) e Inverse Document Frequency (IDF). \n",
    "\n",
    "- El componente TF se refiere a la frecuencia de una palabra en un documento específico. Cuantas más veces aparezca una palabra en un documento, mayor será su frecuencia. La idea es que las palabras que aparecen más a menudo en un documento son más relevantes para ese documento.\n",
    "\n",
    "$$ TF(t, d) = \\frac{\\text{Número de veces que el término } t \\text{ aparece en el documento } d}{\\text{Total de términos en el documento } d}\n",
    " $$\n",
    "\n",
    "- El componente IDF tiene en cuenta la importancia de una palabra en todo el corpus (conjunto) de documentos. Si una palabra aparece en muchos documentos, es menos discriminativa y, por lo tanto, menos importante. La fórmula del IDF reduce el peso de las palabras comunes y aumenta el peso de las palabras raras en todo el corpus.\n",
    "\n",
    "$$ IDF(t) = \\log \\frac{\\text{Número de documentos}}{\\text{Número de documentos que contienen el término } t}\n",
    " $$\n",
    "\n",
    "TfidfVectorizer combina TF e IDF para asignar un peso a cada palabra en un documento. Los pesos resultantes pueden utilizarse para entrenar los modelos.\n",
    "\n",
    "$$ TF-IDF(t, d) = TF(t, d) \\times IDF(t) $$\n",
    "\n",
    "**Ventajas en comporacion con CountVectorizer**:\n",
    "- Tiene en cuenta no solo la frecuencia de las palabras en un documento específico, sino también su importancia en todo el corpus. Esto permite identificar palabras clave en un documento y mejorar la capacidad del modelo para distinguir entre documentos.\n",
    "- Los pesos TF-IDF reducen la influencia de palabras comunes que no aportan mucho valor en la diferenciación de documentos, como los artículos o las preposiciones\n",
    "\n",
    "**Desventajas en comporacion con CountVectorizer**\n",
    "- Es computacionalmente más costoso que CountVectorizer debido al cálculo adicional del IDF.\n",
    "- Puede ser menos efectivo cuando se trabaja con conjuntos de datos muy grandes o corpus de documentos muy diversos, donde las palabras comunes pueden tener diferentes significados en diferentes contextos"
   ]
  },
  {
   "cell_type": "markdown",
   "metadata": {},
   "source": [
    "## Punto 4 - Tokenización con TfidfVectorizer\n",
    "\n",
    "En la celda 4 creen y entrenen el mismo modelo de regresión del primer punto, para que prediga la probabilidad de que un comentario sea tóxico, usando los set de entrenamiento y test definidos anteriormente. Procesen los comentarios con la función **TfidfVectorizer** y presenten el desempeño del modelo con la métrica del MSE.\n",
    "\n",
    "Recuerden que el preprocesamiento que se haga sobre los datos de entrenamiento  (*.fit_transform()*) deben ser aplicado al set de test (*.transform()*)."
   ]
  },
  {
   "cell_type": "code",
   "execution_count": 10,
   "metadata": {},
   "outputs": [
    {
     "name": "stdout",
     "output_type": "stream",
     "text": [
      "MSE en test usando TF-IDF: 0.018062289454129018\n",
      "MSE en train usando TF-IDF: 0.016435148936374922\n"
     ]
    }
   ],
   "source": [
    "# Celda 4\n",
    "# Tokenizar los comentarios usando TF-IDF\n",
    "vectorizer_3 = TfidfVectorizer()\n",
    "X_train_3 = vectorizer_3.fit_transform(X_train)\n",
    "X_test_3 = vectorizer_3.transform(X_test)\n",
    "\n",
    "# Entrenar el modelo de regresión Ridge\n",
    "lr3 = Ridge(positive=True, random_state=1399)\n",
    "lr3.fit(X_train_3, y_train)\n",
    "\n",
    "# Predecir probabilidades y evaluar el desempeño usando MSE\n",
    "y_pred_3 = lr3.predict(X_test_3)\n",
    "mse_3 = metrics.mean_squared_error(y_test, y_pred_3)\n",
    "print(f'MSE en test usando TF-IDF: {mse_3}')\n",
    "\n",
    "# Predecir probabilidades y evaluar el desempeño usando MSE\n",
    "y_pred_3_train = lr3.predict(X_train_3)\n",
    "mse_3_train = metrics.mean_squared_error(y_train, y_pred_3_train)\n",
    "print(f'MSE en train usando TF-IDF: {mse_3_train}')"
   ]
  },
  {
   "cell_type": "markdown",
   "metadata": {},
   "source": [
    "## Punto 5 - Comparación y análisis de resultados\n",
    "\n",
    "En la celda 5 comparen los resultados obtenidos de los diferentes modelos y comenten cómo el preprocesamiento de texto afecta el desempeño."
   ]
  },
  {
   "cell_type": "code",
   "execution_count": 11,
   "metadata": {},
   "outputs": [
    {
     "data": {
      "image/png": "[encoded data removed]",
      "text/plain": [
       "<Figure size 640x480 with 1 Axes>"
      ]
     },
     "metadata": {},
     "output_type": "display_data"
    }
   ],
   "source": [
    "# Celda 5\n",
    "# Etiquetas de modelos\n",
    "modelos = [\n",
    "    \"Tokenización\\nCountVectorizer\",\n",
    "    \"Tokenización\\nCountVectorizer y trigramas\",\n",
    "    \"Tokenización\\nTfidfVectorizer\"\n",
    "]\n",
    "\n",
    "# MSE de modelos\n",
    "mse = [round(mse_1, 4), round(mse_2, 4), round(mse_3, 4)]\n",
    "mse_train = [round(mse_1_train, 4), round(mse_2_train, 4), round(mse_3_train, 4)]\n",
    "\n",
    "# Graficar modelos\n",
    "fig, ax = plt.subplots()\n",
    "width = 0.35\n",
    "x = np.arange(len(modelos))\n",
    "ax.bar(x - width/2, mse, width=width, label='MSE test')\n",
    "ax.bar(x + width/2, mse_train, width=width, alpha=0.5, label='MSE train')\n",
    "\n",
    "for i, v in enumerate(mse):\n",
    "    ax.text(i - width/2, v + 0.0005, str(v), size=9, ha='center')\n",
    "    ax.text(i + width/2, mse_train[i] + 0.0005, str(mse_train[i]), size=9, ha='center')\n",
    "\n",
    "ax.set_xlabel('Modelos')\n",
    "ax.set_ylabel('MSE')\n",
    "ax.set_title('Comparación de modelos')\n",
    "ax.set_xticks(x)\n",
    "ax.set_xticklabels(modelos, rotation=45)\n",
    "ax.legend()\n",
    "plt.show()\n"
   ]
  },
  {
   "cell_type": "markdown",
   "metadata": {},
   "source": [
    "- El modelo que utiliza TfidfVectorizer para el preprocesamiento de texto presenta el mejor desempeño, con un MSE de 0.0181. Esto indica que este enfoque de preprocesamiento es más efectivo para este problema específico de predicción de toxicidad en comentarios.\n",
    "\n",
    "- En este caso, el uso de TfidfVectorizer resulta en un mejor desempeño en comparación con los modelos que utilizan CountVectorizer con unigramas o trigramas. Esto puede deberse a que TfidfVectorizer considera la importancia de las palabras en el documento y en el corpus, lo que ayuda a identificar palabras clave y mejorar la capacidad de los modelos para distinguir entre comentarios tóxicos y no tóxicos.\n",
    "\n",
    "- El modelo de CountVectorizer con trigramas produce mucho overfitting si comparamos el desempeño del modelo en el set de test y de train. En los otros modelos la diferencia no es tan grande como para decir que hay overfit."
   ]
  },
  {
   "cell_type": "code",
   "execution_count": 12,
   "metadata": {},
   "outputs": [
    {
     "name": "stdout",
     "output_type": "stream",
     "text": [
      "Numero de features con (unicamente) unigramas 10,546,378\n",
      "Numero de features con (unicamente) trigramas 141,176\n"
     ]
    }
   ],
   "source": [
    "print(f\"Numero de features con (unicamente) unigramas {len(vectorizer_2.get_feature_names()):,}\")\n",
    "print(f\"Numero de features con (unicamente) trigramas {len(vectorizer_3.get_feature_names()):,}\")"
   ]
  },
  {
   "cell_type": "markdown",
   "metadata": {},
   "source": [
    "Entre los modelos de CountVectorizer, el modelo de unigramas (MSE de 0.0242) tuvo un mejor desempeño que el de trigramas (MSE de 0.0389). Esto se puede deberse a que:\n",
    "- Los trigramas por sí mismos pueden no capturar información suficiente para realizar predicciones precisas. Al utilizar solo trigramas, se descartan las características basadas en unigramas y bigramas que podrían ser más relevantes para predecir la toxicidad de los comentarios.\n",
    "- Los trigramas pueden ser menos frecuentes en el corpus que los unigramas y bigramas. Como resultado, el modelo podría estar ajustándose a características menos frecuentes y menos representativas de la toxicidad en los comentarios."
   ]
  }
 ],
 "metadata": {
  "kernelspec": {
   "display_name": "Python 3 (ipykernel)",
   "language": "python",
   "name": "python3"
  },
  "language_info": {
   "codemirror_mode": {
    "name": "ipython",
    "version": 3
   },
   "file_extension": ".py",
   "mimetype": "text/x-python",
   "name": "python",
   "nbconvert_exporter": "python",
   "pygments_lexer": "ipython3",
   "version": "3.9.13"
  },
  "name": "_merged"
 },
 "nbformat": 4,
 "nbformat_minor": 4
}
